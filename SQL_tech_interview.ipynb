{
  "nbformat": 4,
  "nbformat_minor": 0,
  "metadata": {
    "colab": {
      "provenance": [],
      "collapsed_sections": [
        "2D2Z76U9A_26"
      ],
      "authorship_tag": "ABX9TyNk74YSH3qE69T3gdQRCi7v",
      "include_colab_link": true
    },
    "kernelspec": {
      "name": "python3",
      "display_name": "Python 3"
    },
    "language_info": {
      "name": "python"
    }
  },
  "cells": [
    {
      "cell_type": "markdown",
      "metadata": {
        "id": "view-in-github",
        "colab_type": "text"
      },
      "source": [
        "<a href=\"https://colab.research.google.com/github/landier/sql-interview/blob/main/SQL_tech_interview.ipynb\" target=\"_parent\"><img src=\"https://colab.research.google.com/assets/colab-badge.svg\" alt=\"Open In Colab\"/></a>"
      ]
    },
    {
      "cell_type": "markdown",
      "source": [
        "# Setup"
      ],
      "metadata": {
        "id": "0g2L6a2aoDzs"
      }
    },
    {
      "cell_type": "code",
      "source": [
        "# !wget https://github.com/landier/sql-interview/blob/main/data/chinook.sqlite3\n",
        "!wget https://tdmdal.github.io/mma-sql-2021/data/northwind.sqlite3"
      ],
      "metadata": {
        "colab": {
          "base_uri": "https://localhost:8080/"
        },
        "id": "kaMA4wuAOVNE",
        "outputId": "c5591a96-b853-43a2-911a-f0ec6e69dee3"
      },
      "execution_count": 12,
      "outputs": [
        {
          "output_type": "stream",
          "name": "stdout",
          "text": [
            "--2024-03-23 15:39:17--  https://tdmdal.github.io/mma-sql-2021/data/northwind.sqlite3\n",
            "Resolving tdmdal.github.io (tdmdal.github.io)... 185.199.109.153, 185.199.111.153, 185.199.108.153, ...\n",
            "Connecting to tdmdal.github.io (tdmdal.github.io)|185.199.109.153|:443... connected.\n",
            "HTTP request sent, awaiting response... 200 OK\n",
            "Length: 804864 (786K) [application/octet-stream]\n",
            "Saving to: ‘northwind.sqlite3’\n",
            "\n",
            "\rnorthwind.sqlite3     0%[                    ]       0  --.-KB/s               \rnorthwind.sqlite3   100%[===================>] 786.00K  --.-KB/s    in 0.05s   \n",
            "\n",
            "2024-03-23 15:39:17 (16.9 MB/s) - ‘northwind.sqlite3’ saved [804864/804864]\n",
            "\n"
          ]
        }
      ]
    },
    {
      "cell_type": "code",
      "source": [
        "%reload_ext sql"
      ],
      "metadata": {
        "id": "AN7PWqwKiAoy"
      },
      "execution_count": 11,
      "outputs": []
    },
    {
      "cell_type": "markdown",
      "source": [
        "test"
      ],
      "metadata": {
        "id": "p3cMHeafvtWq"
      }
    },
    {
      "cell_type": "code",
      "source": [
        "# %sql sqlite:///sql-interview/data/chinook.db\n",
        "%sql sqlite:///northwind.db"
      ],
      "metadata": {
        "id": "uaPTi7mhorqb"
      },
      "execution_count": 14,
      "outputs": []
    },
    {
      "cell_type": "code",
      "source": [
        "%%sql\n",
        "SELECT sqlite_version();"
      ],
      "metadata": {
        "colab": {
          "base_uri": "https://localhost:8080/",
          "height": 97
        },
        "id": "FRMboyc9OjgM",
        "outputId": "5bf06ae8-28bb-4cec-bedd-c70afdaf69ea"
      },
      "execution_count": 15,
      "outputs": [
        {
          "output_type": "stream",
          "name": "stdout",
          "text": [
            " * sqlite:///northwind.db\n",
            "Done.\n"
          ]
        },
        {
          "output_type": "execute_result",
          "data": {
            "text/plain": [
              "[('3.37.2',)]"
            ],
            "text/html": [
              "<table>\n",
              "    <thead>\n",
              "        <tr>\n",
              "            <th>sqlite_version()</th>\n",
              "        </tr>\n",
              "    </thead>\n",
              "    <tbody>\n",
              "        <tr>\n",
              "            <td>3.37.2</td>\n",
              "        </tr>\n",
              "    </tbody>\n",
              "</table>"
            ]
          },
          "metadata": {},
          "execution_count": 15
        }
      ]
    },
    {
      "cell_type": "markdown",
      "source": [
        "#Exercice"
      ],
      "metadata": {
        "id": "HGSvaP1eoTtt"
      }
    },
    {
      "cell_type": "markdown",
      "source": [],
      "metadata": {
        "id": "f_oZpqW9_xgh"
      }
    },
    {
      "cell_type": "code",
      "source": [
        "# List of tables\n",
        "%%sql\n",
        "SELECT name FROM sqlite_master WHERE type='table' AND name NOT LIKE 'sqlite_%';"
      ],
      "metadata": {
        "colab": {
          "base_uri": "https://localhost:8080/"
        },
        "id": "fn8yg519o_SG",
        "outputId": "10094d0b-c5ac-4e98-e9e0-ba1d37fce8bc"
      },
      "execution_count": 1,
      "outputs": [
        {
          "output_type": "stream",
          "name": "stderr",
          "text": [
            "UsageError: Cell magic `%%sql` not found.\n"
          ]
        }
      ]
    },
    {
      "cell_type": "code",
      "source": [
        "%%sql\n",
        "PRAGMA table_info([Categories]);"
      ],
      "metadata": {
        "id": "WKdDdnLgGgVp",
        "colab": {
          "base_uri": "https://localhost:8080/"
        },
        "outputId": "5c49ae08-e44c-453c-e0ef-4be1a537d881"
      },
      "execution_count": 10,
      "outputs": [
        {
          "output_type": "stream",
          "name": "stderr",
          "text": [
            "UsageError: Cell magic `%%sql` not found.\n"
          ]
        }
      ]
    },
    {
      "cell_type": "markdown",
      "source": [
        "**Question**: What are the top 10 artists with the most albums?"
      ],
      "metadata": {
        "id": "PDVfPV6MFwTF"
      }
    },
    {
      "cell_type": "code",
      "source": [
        "%%sql\n",
        "-- Code here"
      ],
      "metadata": {
        "id": "fz-aO3KSGadg",
        "colab": {
          "base_uri": "https://localhost:8080/"
        },
        "outputId": "d30d3060-c300-4a1c-947c-86d5da7e7d91"
      },
      "execution_count": null,
      "outputs": [
        {
          "output_type": "stream",
          "name": "stdout",
          "text": [
            "   sqlite://\n",
            " * sqlite:///sql-interview/data/chinook.db\n",
            "Done.\n"
          ]
        },
        {
          "output_type": "execute_result",
          "data": {
            "text/plain": [
              "[]"
            ]
          },
          "metadata": {},
          "execution_count": 67
        }
      ]
    },
    {
      "cell_type": "markdown",
      "source": [
        "## Answer"
      ],
      "metadata": {
        "id": "eS86_f0LGeZx"
      }
    },
    {
      "cell_type": "code",
      "source": [
        "%%sql\n",
        "SELECT\n",
        "  ArtistId,\n",
        "  COUNT(*)\n",
        "FROM albums\n",
        "GROUP BY ArtistId\n",
        "ORDER BY COUNT(*) DESC\n",
        "LIMIT 10"
      ],
      "metadata": {
        "id": "ngTeE_QapCze",
        "colab": {
          "base_uri": "https://localhost:8080/",
          "height": 308
        },
        "outputId": "9dba0a2c-47af-4b07-c355-a790d78a4594"
      },
      "execution_count": null,
      "outputs": [
        {
          "output_type": "stream",
          "name": "stdout",
          "text": [
            "   sqlite://\n",
            " * sqlite:///sql-interview/data/chinook.db\n",
            "Done.\n"
          ]
        },
        {
          "output_type": "execute_result",
          "data": {
            "text/plain": [
              "[(90, 21),\n",
              " (22, 14),\n",
              " (58, 11),\n",
              " (50, 10),\n",
              " (150, 10),\n",
              " (114, 6),\n",
              " (118, 5),\n",
              " (21, 4),\n",
              " (82, 4),\n",
              " (84, 4)]"
            ],
            "text/html": [
              "<table>\n",
              "    <thead>\n",
              "        <tr>\n",
              "            <th>ArtistId</th>\n",
              "            <th>COUNT(*)</th>\n",
              "        </tr>\n",
              "    </thead>\n",
              "    <tbody>\n",
              "        <tr>\n",
              "            <td>90</td>\n",
              "            <td>21</td>\n",
              "        </tr>\n",
              "        <tr>\n",
              "            <td>22</td>\n",
              "            <td>14</td>\n",
              "        </tr>\n",
              "        <tr>\n",
              "            <td>58</td>\n",
              "            <td>11</td>\n",
              "        </tr>\n",
              "        <tr>\n",
              "            <td>50</td>\n",
              "            <td>10</td>\n",
              "        </tr>\n",
              "        <tr>\n",
              "            <td>150</td>\n",
              "            <td>10</td>\n",
              "        </tr>\n",
              "        <tr>\n",
              "            <td>114</td>\n",
              "            <td>6</td>\n",
              "        </tr>\n",
              "        <tr>\n",
              "            <td>118</td>\n",
              "            <td>5</td>\n",
              "        </tr>\n",
              "        <tr>\n",
              "            <td>21</td>\n",
              "            <td>4</td>\n",
              "        </tr>\n",
              "        <tr>\n",
              "            <td>82</td>\n",
              "            <td>4</td>\n",
              "        </tr>\n",
              "        <tr>\n",
              "            <td>84</td>\n",
              "            <td>4</td>\n",
              "        </tr>\n",
              "    </tbody>\n",
              "</table>"
            ]
          },
          "metadata": {},
          "execution_count": 57
        }
      ]
    },
    {
      "cell_type": "code",
      "source": [],
      "metadata": {
        "id": "c6GegJc8uFZA"
      },
      "execution_count": null,
      "outputs": []
    },
    {
      "cell_type": "code",
      "source": [],
      "metadata": {
        "id": "0AWn58mJA_Ir"
      },
      "execution_count": null,
      "outputs": []
    },
    {
      "cell_type": "markdown",
      "source": [
        "# Progression\n",
        "\n",
        "1.   GROUP BY\n",
        "2.   MAX\n",
        "3.   DISTINCT A,B\n",
        "4.   JOIN\n",
        "5.   SUBQUERY\n",
        "\n"
      ],
      "metadata": {
        "id": "2D2Z76U9A_26"
      }
    },
    {
      "cell_type": "code",
      "source": [],
      "metadata": {
        "id": "9TSZmURQBA0U"
      },
      "execution_count": null,
      "outputs": []
    },
    {
      "cell_type": "code",
      "source": [],
      "metadata": {
        "id": "DfVrCyyVFcBs"
      },
      "execution_count": null,
      "outputs": []
    },
    {
      "cell_type": "code",
      "source": [],
      "metadata": {
        "id": "M-zX5vj2Fdg6"
      },
      "execution_count": null,
      "outputs": []
    },
    {
      "cell_type": "markdown",
      "source": [
        "## Exercises\n",
        "\n",
        "**We will work on the problems with a * sign together.** Other problems are left for homework.\n",
        "\n",
        "## Part 1. Warm-up\n",
        "\n",
        "We review\n",
        "\n",
        "1. Retrieve data: `SELECT...FROM...`\n",
        "2. Sort retrieved data: `SELECT...FROM...ORDER BY...`\n",
        "3. Filter data: `SELECT...FROM...WHERE...`; `IN`, `NOT`, `LIKE` and `%` wildcard\n",
        "4. Create calculated fields: mathematical calculations (e.g. +, -, *, /); data manipulation functions (e.g. `DATE()`, `||`)"
      ],
      "metadata": {
        "id": "pCMJAERPP5i4"
      }
    },
    {
      "cell_type": "markdown",
      "source": [
        "### Ex1*. Which categories do we have?\n",
        "\n",
        "Display `CategoryName` and `Description` in the `Categories` table."
      ],
      "metadata": {
        "id": "DsN97oCBP5i5"
      }
    },
    {
      "cell_type": "code",
      "execution_count": null,
      "source": [
        "%%sql\n",
        "-- start your code here\n"
      ],
      "outputs": [],
      "metadata": {
        "id": "DkcFjUPZP5i7"
      }
    },
    {
      "cell_type": "code",
      "execution_count": null,
      "source": [
        "# Just curious, what's in the picture column?\n",
        "result = %sql SELECT CategoryName, Picture FROM Categories;\n",
        "result.DataFrame().loc[0, 'Picture']"
      ],
      "outputs": [],
      "metadata": {
        "id": "noxeIeauP5jB"
      }
    },
    {
      "cell_type": "code",
      "execution_count": null,
      "source": [
        "# still curious about the picture column?\n",
        "# image is actually stored as a blob (Binary Large Object) in SQLite\n",
        "from matplotlib.pyplot import imshow\n",
        "from PIL import Image\n",
        "from io import BytesIO\n",
        "%matplotlib inline\n",
        "row = 0\n",
        "im = Image.open(BytesIO(result.DataFrame().loc[row, 'Picture'][78:])) # cut the first 78 bytes (OLE header)\n",
        "print(im)\n",
        "imshow(im)"
      ],
      "outputs": [],
      "metadata": {
        "id": "3nBk-vEXP5jL"
      }
    },
    {
      "cell_type": "markdown",
      "source": [
        "### Ex2. Which shippers do we have?"
      ],
      "metadata": {
        "id": "vfyHGYXUP5jS"
      }
    },
    {
      "cell_type": "code",
      "execution_count": null,
      "source": [
        "%%sql\n",
        "-- start your code here\n"
      ],
      "outputs": [],
      "metadata": {
        "id": "Yewkdb61P5jV"
      }
    },
    {
      "cell_type": "markdown",
      "source": [
        "### Ex3* Find names and hire dates of all US sales representatives\n",
        "\n",
        "The resulting table should display `FirstName`, `LastName`, `HireDate`, `Title` and `Country`."
      ],
      "metadata": {
        "id": "CJGFfDmMP5jd"
      }
    },
    {
      "cell_type": "code",
      "execution_count": null,
      "source": [
        "%%sql\n",
        "-- take a look at the Employees table first\n",
        "-- use LIMIT to limit the rows being displayed\n",
        "SELECT FirstName, LastName, HireDate, Title, Country\n",
        "FROM Employees\n",
        "LIMIT 10"
      ],
      "outputs": [],
      "metadata": {
        "id": "nAijMy1ZP5je"
      }
    },
    {
      "cell_type": "code",
      "execution_count": null,
      "source": [
        "%%sql\n",
        "-- just curious, how many distinct coutries do we have?\n",
        "SELECT DISTINCT Country\n",
        "FROM Employees"
      ],
      "outputs": [],
      "metadata": {
        "id": "s7SiTpDIP5jm"
      }
    },
    {
      "cell_type": "code",
      "execution_count": null,
      "source": [
        "%%sql\n",
        "-- start your code here\n"
      ],
      "outputs": [],
      "metadata": {
        "id": "ZzSRms3PP5jw"
      }
    },
    {
      "cell_type": "markdown",
      "source": [
        "### Ex4. Find supplier contacts who are *not* marketing managers\n",
        "\n",
        "Display `supplierID`, `ContactNames` and `ContactTitle` for those whose `ContactTitle` is *not* Marketing Manager.\n",
        "\n",
        "Hint: `NOT` operator."
      ],
      "metadata": {
        "id": "HjWUArDrP5j_"
      }
    },
    {
      "cell_type": "code",
      "execution_count": null,
      "source": [
        "%%sql\n",
        "-- start your code here\n"
      ],
      "outputs": [],
      "metadata": {
        "id": "uKSTe5S_P5kL"
      }
    },
    {
      "cell_type": "markdown",
      "source": [
        "### Ex.5* Find products with \"Chef\" in its name\n",
        "\n",
        "Hint: `LIKE` operator and `%` wildcard."
      ],
      "metadata": {
        "id": "v67A6_DaP5kQ"
      }
    },
    {
      "cell_type": "code",
      "execution_count": null,
      "source": [
        "%%sql\n",
        "-- start your code here\n"
      ],
      "outputs": [],
      "metadata": {
        "id": "nPmZVr5wP5kS"
      }
    },
    {
      "cell_type": "markdown",
      "source": [
        "### Ex.6 Find all orders shipping to Canada, Mexico or USA.\n",
        "\n",
        "Hint: `IN` operator."
      ],
      "metadata": {
        "id": "8td7jDiWP5ke"
      }
    },
    {
      "cell_type": "code",
      "execution_count": null,
      "source": [
        "%%sql\n",
        "-- start your code here\n"
      ],
      "outputs": [],
      "metadata": {
        "id": "GGQJqpMzP5kf"
      }
    },
    {
      "cell_type": "markdown",
      "source": [
        "### Ex.7* Who is the oldest employee?\n",
        "\n",
        "Display `FirstName`, `LastName`, `Title`, and birth date, ordered by birth date. Show only the date portion of the `BirthDate` column/field (YYYY-MM-DD)."
      ],
      "metadata": {
        "id": "actDI1XLP5kl"
      }
    },
    {
      "cell_type": "code",
      "execution_count": null,
      "source": [
        "%%sql\n",
        "-- start your code here\n"
      ],
      "outputs": [],
      "metadata": {
        "id": "0xIt3fpHP5kl"
      }
    },
    {
      "cell_type": "markdown",
      "source": [
        "### EX.8 Show employee full name\n",
        "\n",
        "Show the `FirstName` and `LastName` columns from the `Employees` table, and then create a new column called `FullName`, showing first name and last name joined together in one column in a format like \"DAVOLIO, Nancy\"."
      ],
      "metadata": {
        "id": "h107mQkjP5kx"
      }
    },
    {
      "cell_type": "code",
      "execution_count": null,
      "source": [
        "%%sql\n",
        "-- start your code here\n"
      ],
      "outputs": [],
      "metadata": {
        "id": "dmCenF_lP5kz"
      }
    },
    {
      "cell_type": "markdown",
      "source": [
        "### Ex.9* Which order items have total sales above $12,000.\n",
        "\n",
        "In the `OrderDetails` table, we have the columns `UnitPrice` and `Quantity`. Create a new column, `TotalPrice`, that multiplies these two (ignore the `Discount` column). Display `OrderID`, `ProductID`, `UnitPrice`, `Quantity` and `TotalPrice`. Order the result first by `ProductID` (ascending) and then by `TotalPrice` (descending).\n",
        "\n",
        "Note that the question asks about order items (not orders). One order may contain multiple items/products. An order item is identified by the `OrderID` and `ProductID` columns."
      ],
      "metadata": {
        "id": "heh3Gl-CP5k5"
      }
    },
    {
      "cell_type": "code",
      "execution_count": null,
      "source": [
        "%%sql\n",
        "-- start your code here\n"
      ],
      "outputs": [],
      "metadata": {
        "id": "8jlohcepP5k5"
      }
    },
    {
      "cell_type": "markdown",
      "source": [
        "### Ex.10 Show all products that need reordering\n",
        "\n",
        "A product need reordering if `UnitsInStock + UnitsOnOrder <= ReorderLevel` and `Discontinued = 0`. In your result, display `ProductID`, `ProductName`, `UnitsInStock`, `UnitsOnOrder`, `ReorderLevel`, and `Discontinued`."
      ],
      "metadata": {
        "id": "8SitwG-HP5lG"
      }
    },
    {
      "cell_type": "code",
      "execution_count": null,
      "source": [
        "%%sql\n",
        "-- start your code here\n"
      ],
      "outputs": [],
      "metadata": {
        "id": "w6WKD5WTP5lG"
      }
    },
    {
      "cell_type": "markdown",
      "source": [
        "## Part 2. Summarize and Group Data\n",
        "\n",
        "1. Summarize data using aggregate functions (e.g. `COUNT()`, `MIN()`, `MAX()`, and `AVG()`).\n",
        "2. Group data and filter groups: `SELECT...FROM...GROUP BY...HAVING...`.\n",
        "3. `SELECT` clause ordering: `SELECT...FROM...WHERE...GROUP BY...HAVING...ORDER BY...`.\n",
        "4. Filter data by *subquery*: `SELECT...FROM...WHERE...(SELECT...FROM...)`\n",
        "\n",
        "### Ex.11* Count total number of order items. What's their minimum, maximum and average price?\n",
        "\n",
        "Note that the question asks about order items (not orders). One order may contain multiple items/products. An order item is identified by (OrderID + ProductID)."
      ],
      "metadata": {
        "id": "IJWnaTtsP5lM"
      }
    },
    {
      "cell_type": "code",
      "execution_count": null,
      "source": [
        "%%sql\n",
        "-- start your code here\n"
      ],
      "outputs": [],
      "metadata": {
        "id": "QN_WXbVDP5lN"
      }
    },
    {
      "cell_type": "markdown",
      "source": [
        "### Ex. 12* How many customers do we have for each contact title.\n",
        "\n",
        "Order the result by the count of contact titles."
      ],
      "metadata": {
        "id": "atzWiwfxP5lU"
      }
    },
    {
      "cell_type": "code",
      "execution_count": null,
      "source": [
        "%%sql\n",
        "-- start your code here\n"
      ],
      "outputs": [],
      "metadata": {
        "id": "XpwkY2yPP5lU"
      }
    },
    {
      "cell_type": "markdown",
      "source": [
        "### Ex.13 Find total customers per country and city"
      ],
      "metadata": {
        "id": "1e2HP45FP5lY"
      }
    },
    {
      "cell_type": "code",
      "execution_count": null,
      "source": [
        "%%sql\n",
        "-- start your code here\n"
      ],
      "outputs": [],
      "metadata": {
        "id": "eyJLA4IsP5la"
      }
    },
    {
      "cell_type": "markdown",
      "source": [
        "### Ex.14* Show all orders with values greater than $12,000?\n",
        "\n",
        "Ignore the `Discount`. Contrast this question to Ex.9."
      ],
      "metadata": {
        "id": "Ie1Up0WCP5lf"
      }
    },
    {
      "cell_type": "code",
      "execution_count": null,
      "source": [
        "%%sql\n",
        "-- start your code here\n"
      ],
      "outputs": [],
      "metadata": {
        "id": "ghH38U-EP5lf"
      }
    },
    {
      "cell_type": "markdown",
      "source": [
        "### Ex.15* Find top three countries with the highest average freight charges for the last 12 months.\n",
        "\n",
        "\"The last 12 months\" is with respect to the last `OrderDate` in the `Orders` table."
      ],
      "metadata": {
        "id": "6L0C9-krP5ll"
      }
    },
    {
      "cell_type": "code",
      "execution_count": null,
      "source": [
        "%%sql\n",
        "-- start your code here\n",
        "-- datetime(): https://www.sqlite.org/lang_datefunc.html\n"
      ],
      "outputs": [],
      "metadata": {
        "id": "XGEsw_hL2FXR"
      }
    },
    {
      "cell_type": "markdown",
      "source": [
        "## Part 3. Join Tables\n",
        "\n",
        "1. Inner join: `SELECT...FROM...INNER JOIN...ON...`\n",
        "2. Left join:  `SELECT...FROM...LEFT JOIN...ON...`\n",
        "3. Other joins.\n",
        "\n",
        "### Ex.16* Show products and their associated suppliers\n",
        "\n",
        "Display the `ProductID`, `ProductName`, and the `CompanyName` of the Supplier. Sort by `ProductID`.\n",
        "\n",
        "We can use the `WHERE` keyword."
      ],
      "metadata": {
        "id": "vd921rwiP5lr"
      }
    },
    {
      "cell_type": "code",
      "execution_count": null,
      "source": [
        "%%sql\n",
        "-- start your code here\n"
      ],
      "outputs": [],
      "metadata": {
        "id": "YlnNWYlVP5ls"
      }
    },
    {
      "cell_type": "markdown",
      "source": [
        "We can also use the `(INNER) JOIN` keyword."
      ],
      "metadata": {
        "id": "fLaN2Ph3P5lw"
      }
    },
    {
      "cell_type": "code",
      "execution_count": null,
      "source": [
        "%%sql\n",
        "-- start your code here\n"
      ],
      "outputs": [],
      "metadata": {
        "id": "R9QauiHNP5lw"
      }
    },
    {
      "cell_type": "markdown",
      "source": [
        "### Ex.17 Show all orders and shippers with OrderID less than 10255.\n",
        "\n",
        "Display `OrderID`, `OrderDate` (date only), and `CompanyName` of the Shipper, and sort by `OrderID`. In addition, only display rows with `OrderID < 10255`."
      ],
      "metadata": {
        "id": "JJYHshMRP5l1"
      }
    },
    {
      "cell_type": "code",
      "execution_count": null,
      "source": [
        "%%sql\n",
        "-- start your code here\n"
      ],
      "outputs": [],
      "metadata": {
        "id": "HUNuMMn_P5l8"
      }
    },
    {
      "cell_type": "markdown",
      "source": [
        "### Ex.18* Find total number of products in each category\n",
        "\n",
        "In your result, display `CategoryName` and total number of product."
      ],
      "metadata": {
        "id": "f_9Va_7xP5mB"
      }
    },
    {
      "cell_type": "code",
      "execution_count": null,
      "source": [
        "%%sql\n",
        "-- start your code here\n"
      ],
      "outputs": [],
      "metadata": {
        "id": "tK7punTbP5mC"
      }
    },
    {
      "cell_type": "markdown",
      "source": [
        "### Ex.19 Show all orders with values greater than $12,000 and are placed in 2016?\n",
        "\n",
        "In your result, display `OrderID` and total value of the order (ignore `Discount`)."
      ],
      "metadata": {
        "id": "J3VLQ3iXP5mO"
      }
    },
    {
      "cell_type": "code",
      "execution_count": null,
      "source": [
        "%%sql\n",
        "-- start your code here\n"
      ],
      "outputs": [],
      "metadata": {
        "id": "OpLqfrRoP5mO"
      }
    },
    {
      "cell_type": "markdown",
      "source": [
        "### Ex.20* What products has Michael Suyama ever sold?\n",
        "\n",
        "In your result, display `EmployeeID`, `FirstName`, `LastName`, `ProductID` and `ProductName`."
      ],
      "metadata": {
        "id": "2uSIBVYaP5mV"
      }
    },
    {
      "cell_type": "code",
      "execution_count": null,
      "source": [
        "%%sql\n",
        "-- start your code here\n"
      ],
      "outputs": [],
      "metadata": {
        "id": "LXOIiGBRP5mW"
      }
    },
    {
      "cell_type": "markdown",
      "source": [
        "### Ex.21* Find customers that never placed an order"
      ],
      "metadata": {
        "id": "kvuZQGMqP5ml"
      }
    },
    {
      "cell_type": "code",
      "execution_count": null,
      "source": [
        "%%sql\n",
        "-- start your code here\n"
      ],
      "outputs": [],
      "metadata": {
        "id": "F7uyq24fP5ml"
      }
    },
    {
      "cell_type": "markdown",
      "source": [
        "Note that the Jupyter Notebook displays Null as None."
      ],
      "metadata": {
        "id": "1avlw8OTP5ms"
      }
    },
    {
      "cell_type": "markdown",
      "source": [
        "### Ex.22* Find customers who never placed an order from Margaret Peacock (EmployeeID 4)"
      ],
      "metadata": {
        "id": "FZ1FrCvoP5mt"
      }
    },
    {
      "cell_type": "code",
      "execution_count": null,
      "source": [
        "%%sql\n",
        "-- start your code here\n"
      ],
      "outputs": [],
      "metadata": {
        "id": "E5KAA0UBP5mu"
      }
    },
    {
      "cell_type": "markdown",
      "source": [
        "### Ex.23* Find high-value customers - 1\n",
        "\n",
        "We define high-value customers as those who have made at least 1 order with a total value >= $10,000 (ignore discount). We only consider orders placed in year 2016."
      ],
      "metadata": {
        "id": "83jTvbPjP5my"
      }
    },
    {
      "cell_type": "code",
      "execution_count": null,
      "source": [
        "%%sql\n",
        "-- start your code here\n"
      ],
      "outputs": [],
      "metadata": {
        "id": "XUY5JDlTP5mz"
      }
    },
    {
      "cell_type": "markdown",
      "source": [
        "### Ex.24 Find high-value customers - 2\n",
        "\n",
        "This time, we define high-value customers as those who have made total order >= $15,000 (ignore discount). We only consider orders placed in year 2016."
      ],
      "metadata": {
        "id": "HjWfxr2LP5m2"
      }
    },
    {
      "cell_type": "code",
      "execution_count": null,
      "source": [
        "%%sql\n",
        "-- start your code here\n"
      ],
      "outputs": [],
      "metadata": {
        "id": "RX190v6VP5m3"
      }
    },
    {
      "cell_type": "markdown",
      "source": [
        "## Part 4. Others\n",
        "\n",
        "If we don't have time to go through all the concepts below, I encourage you to learn them on your own.\n",
        "\n",
        "1. CTE and temporary table\n",
        "2. Self-join\n",
        "3. `CASE` keyword\n",
        "4. `UNION` keyword\n",
        "\n",
        "Many SQL implementations support something called Common Table Expression (CTE).\n",
        "\n",
        ">A CTE is a named temporary result set that exists within the scope of a single statement and that can be referred to later within that statement, possibly multiple times.\n",
        "\n",
        "CTE is like a subquery, but it's more flexible. In particular, it can be referred to many times in a query, as if we have a temporary table. CTE is created using the `WITH` keyword. Below is a trivial example of CTE.\n",
        "\n",
        "```\n",
        "WITH\n",
        "  cte1 AS (SELECT a, b FROM table1),\n",
        "  cte2 AS (SELECT c, d FROM table2)\n",
        "SELECT b, d FROM cte1 JOIN cte2\n",
        "WHERE cte1.a = cte2.c;\n",
        "\n",
        "```\n",
        "\n",
        "You can also use a temporary table to store `SELECT` result. Temporary table can be referred to multiple times in a single session. The syntax to create temporary table and store results from `SELECT` is\n",
        "\n",
        "```\n",
        "CREATE TEMPORARY TABLE TableName AS SELECT...\n",
        "```"
      ],
      "metadata": {
        "id": "1OaiErBgP5m9"
      }
    },
    {
      "cell_type": "markdown",
      "source": [
        "### Ex.25* Find the total number of orders fulfilled by the oldest employee (CTE, Subquery, and temporary table)"
      ],
      "metadata": {
        "id": "HUnWyfP7P5m9"
      }
    },
    {
      "cell_type": "code",
      "execution_count": null,
      "source": [
        "%%sql\n",
        "/* CTE (WITH keyword) */\n",
        "-- start your code here\n"
      ],
      "outputs": [],
      "metadata": {
        "id": "yxy9SdqjDxE-"
      }
    },
    {
      "cell_type": "code",
      "execution_count": null,
      "source": [
        "%%sql\n",
        "/* Subquery */\n",
        "-- start your code here\n"
      ],
      "outputs": [],
      "metadata": {
        "id": "guv3XseEP5nE"
      }
    },
    {
      "cell_type": "code",
      "execution_count": null,
      "source": [
        "%%sql\n",
        "/* Temporary Table */\n",
        "-- start your code here\n"
      ],
      "outputs": [],
      "metadata": {
        "id": "KLQ1D4kpHL92"
      }
    },
    {
      "cell_type": "markdown",
      "source": [
        "### Ex.26* For each employee, find what percentage of his/her orders were shipped late?\n",
        "\n",
        "In your result, display `EmployeeID`, `LastName`, total number of orders, number of late orders, % of late orders (rounding to 2 decimal places).\n",
        "\n",
        "Define late order as `RequiredData <= ShipppedDate`.\n",
        "\n",
        "Below are three simpler related questions. You may want to solve them first before you attempt Ex.26 itself.\n",
        "\n",
        "1. Which orders were shipped late?\n",
        "2. Which employee has the most late orders?\n",
        "3. Compare each employee's number of orders and number of late orders.\n",
        "\n",
        "Note: There are many ways to solve this exercise. One of them is to create temporary tables to help us store intermediate results."
      ],
      "metadata": {
        "id": "gHUaCSmIP5nM"
      }
    },
    {
      "cell_type": "code",
      "execution_count": null,
      "source": [
        "%%sql\n",
        "-- 1. Which orders were shipped late?\n",
        "-- start your code here\n"
      ],
      "outputs": [],
      "metadata": {
        "id": "iugXHkKNP5nM"
      }
    },
    {
      "cell_type": "code",
      "execution_count": null,
      "source": [
        "%%sql\n",
        "-- 2. Which employee has the most late orders?\n",
        "-- start your code here\n"
      ],
      "outputs": [],
      "metadata": {
        "id": "PQhltRXIP5nR"
      }
    },
    {
      "cell_type": "code",
      "execution_count": null,
      "source": [
        "%%sql\n",
        "-- 3. Compare each employee's number of orders and number of late orders\n",
        "-- start your code here\n"
      ],
      "outputs": [],
      "metadata": {
        "id": "RLMQIAUgP5nW"
      }
    },
    {
      "cell_type": "code",
      "execution_count": null,
      "source": [
        "%%sql\n",
        "-- Solve Ex.26 (Find % of late orders for each employee)\n",
        "-- start your code here\n"
      ],
      "outputs": [],
      "metadata": {
        "id": "C2RZsV0aP5nb"
      }
    },
    {
      "cell_type": "markdown",
      "source": [
        "### Ex.27* Find customers with multiple orders in 5 day period"
      ],
      "metadata": {
        "id": "APGnHoLSP5nf"
      }
    },
    {
      "cell_type": "code",
      "execution_count": null,
      "source": [
        "%%sql\n",
        "-- start your code here\n",
        "-- JOIN keyword\n"
      ],
      "outputs": [],
      "metadata": {
        "id": "9rFxd4jNP5ng"
      }
    },
    {
      "cell_type": "markdown",
      "source": [
        "### Ex.28 Group customers by its total order value in 2016 for a sales compaign.\n",
        "\n",
        "Group customers into four categories, very high (total order in 2016 > 10,000), high (5,000 < total order <= 10,000), medium (1,000 < total order <= 5,000), and low (0 < total order <= 1,000). When calculating total order value, you can ignore discount.\n",
        "\n",
        "We will learn the `CASE` keyword."
      ],
      "metadata": {
        "id": "eaS3FD86P5no"
      }
    },
    {
      "cell_type": "code",
      "execution_count": null,
      "source": [
        "%%sql\n",
        "-- step 1\n",
        "DROP TABLE IF EXISTS TotalOrderAmountTpTable;\n",
        "\n",
        "CREATE TEMPORARY TABLE TotalOrderAmountTpTable AS\n",
        "SELECT Customers.CustomerID, CompanyName, SUM(UnitPrice * Quantity) AS TotalOrderAmount\n",
        "FROM Customers\n",
        "  JOIN Orders ON Customers.CustomerID = Orders.CustomerID\n",
        "  JOIN OrderDetails ON Orders.OrderID = OrderDetails.OrderID\n",
        "WHERE strftime('%Y', OrderDate) = \"2016\"\n",
        "GROUP BY Customers.CustomerID, CompanyName\n",
        "ORDER BY TotalOrderAmount DESC"
      ],
      "outputs": [],
      "metadata": {
        "id": "EiZLC4bqP5np"
      }
    },
    {
      "cell_type": "code",
      "execution_count": null,
      "source": [
        "%%sql\n",
        "-- step 2\n",
        "SELECT CustomerID, CompanyName, totalOrderAmount,\n",
        "CASE\n",
        "  WHEN TotalOrderAmount > 0 AND TotalOrderAmount <= 1000 THEN 'Low'\n",
        "  WHEN TotalOrderAmount > 1000 AND TotalOrderAmount <= 5000 THEN 'Medium'\n",
        "  WHEN TotalOrderAmount > 5000 AND TotalOrderAmount <= 10000 THEN 'High'\n",
        "  WHEN TotalOrderAmount > 10000 THEN 'Very High'\n",
        "END AS CustomerCategory\n",
        "FROM TotalOrderAmountTpTable\n",
        "ORDER BY CustomerID;"
      ],
      "outputs": [],
      "metadata": {
        "id": "nCw_z8kwP5ns"
      }
    },
    {
      "cell_type": "markdown",
      "source": [
        "### Ex. 29 Countries with suppliers and customers\n",
        "\n",
        "Some Northwind employees are planning a business trip, and they would like to visit as many customers and suppliers as possible. They would like to see a list of all countries and their corresponding total number of customers and total number of suppliers.\n",
        "\n",
        "#### Method 1. Use intermediate tables.\n",
        "\n",
        "We will use temporary tables."
      ],
      "metadata": {
        "id": "ZqGPk7IBP5nv"
      }
    },
    {
      "cell_type": "code",
      "execution_count": null,
      "source": [
        "%%sql\n",
        "-- step 1: count total customers by country\n",
        "DROP TABLE IF EXISTS TotalCustomersTpTable;\n",
        "\n",
        "CREATE TEMPORARY TABLE TotalCustomersTpTable AS\n",
        "SELECT Country, COUNT(CustomerID) AS TotalCustomers\n",
        "FROM Customers\n",
        "GROUP BY Country"
      ],
      "outputs": [],
      "metadata": {
        "id": "1pY3SXUZP5nw"
      }
    },
    {
      "cell_type": "code",
      "execution_count": null,
      "source": [
        "%%sql\n",
        "-- step 2: count total suppliers by country\n",
        "DROP TABLE IF EXISTS TotalSuppliersTpTable;\n",
        "\n",
        "CREATE TEMPORARY TABLE TotalSuppliersTpTable AS\n",
        "SELECT Country, COUNT(SupplierID) AS TotalSuppliers\n",
        "FROM Suppliers\n",
        "GROUP BY Country"
      ],
      "outputs": [],
      "metadata": {
        "id": "fCJHTOjuP5n1"
      }
    },
    {
      "cell_type": "code",
      "execution_count": null,
      "source": [
        "%%sql\n",
        "-- step 3: join two intermediate tables (full outer join using union)\n",
        "SELECT TotalCustomersTpTable.Country, TotalCustomers, TotalSuppliers\n",
        "FROM TotalCustomersTpTable\n",
        "  LEFT JOIN TotalSuppliersTpTable\n",
        "    ON TotalCustomersTpTable.Country = TotalSuppliersTpTable.Country\n",
        "UNION\n",
        "SELECT TotalSuppliersTpTable.Country, TotalCustomers, TotalSuppliers\n",
        "FROM TotalSuppliersTpTable\n",
        "  LEFT JOIN TotalCustomersTpTable\n",
        "    ON TotalCustomersTpTable.Country = TotalSuppliersTpTable.Country\n",
        "ORDER BY TotalSuppliersTpTable.Country"
      ],
      "outputs": [],
      "metadata": {
        "id": "FRWI53UNP5n4"
      }
    },
    {
      "cell_type": "code",
      "execution_count": null,
      "source": [
        "%%sql\n",
        "-- clean up\n",
        "DROP TABLE TotalCustomersTpTable;\n",
        "DROP TABLE TotalSuppliersTpTable;"
      ],
      "outputs": [],
      "metadata": {
        "id": "AOOpyIVmP5n6"
      }
    },
    {
      "cell_type": "markdown",
      "source": [
        "#### Method 2. Use subquery to get a derived table\n",
        "\n",
        "We find all distinct countries in `Customers` and `Supplier` tables, and combine them to be a derived table `CountriesTable`. This table exists only during the execution of the query. We then `LEFT JOIN` the table to `Customers` and `Supplier` tables, and use `GROUP BY` to obtain the result."
      ],
      "metadata": {
        "id": "9IjyAoi7P5n-"
      }
    },
    {
      "cell_type": "code",
      "execution_count": null,
      "source": [
        "%%sql\n",
        "-- Display intermediate result to take a look (debug)\n",
        "SELECT\n",
        "  CountriesTable.Country,\n",
        "  CustomerID,\n",
        "  SupplierID\n",
        "FROM\n",
        "  (SELECT DISTINCT Country FROM Customers\n",
        "   UNION\n",
        "   SELECT DISTINCT Country FROM Suppliers\n",
        "  ) AS CountriesTable -- We have a subquery under the FROM keyword. It gives a derived table, CountriesTable.\n",
        "  LEFT JOIN Customers ON CountriesTable.Country = Customers.Country\n",
        "  LEFT JOIN Suppliers ON CountriesTable.Country = Suppliers.Country"
      ],
      "outputs": [],
      "metadata": {
        "id": "bU_hRj-ED1kr"
      }
    },
    {
      "cell_type": "code",
      "execution_count": null,
      "source": [
        "%%sql\n",
        "-- now, completely solve ex.29\n",
        "SELECT\n",
        "  CountriesTable.Country,\n",
        "  Count(DISTINCT CustomerID) AS TotalCustomers,\n",
        "  Count(DISTINCT SupplierID) AS TotalSuppliers\n",
        "FROM\n",
        "  (SELECT DISTINCT Country FROM Customers\n",
        "   UNION\n",
        "   SELECT DISTINCT Country FROM Suppliers\n",
        "  ) AS CountriesTable -- We have a subquery under the FROM keyword. It gives a derived table, CountriesTable.\n",
        "  LEFT JOIN Customers ON CountriesTable.Country = Customers.Country\n",
        "  LEFT JOIN Suppliers ON CountriesTable.Country = Suppliers.Country\n",
        "GROUP BY CountriesTable.Country\n",
        "ORDER BY CountriesTable.Country"
      ],
      "outputs": [],
      "metadata": {
        "id": "Y2jUT61cP5n_"
      }
    },
    {
      "cell_type": "markdown",
      "source": [
        "## Summary\n",
        "\n",
        "We have covered quite a few basic SQL keywords. They are mostly about getting data from a DB and manipulate the retrieved data. There are much more to SQL. Take a look at this [post](https://stackoverflow.com/questions/2054130/what-is-advanced-sql) to get an idea of what advanced SQL topics are about, and if you are interested, explore them on your own.\n",
        "\n",
        "\n",
        "## References\n",
        "\n",
        "Most of the exercises in this notebook are drawn from this [book](https://www.amazon.ca/SQL-Practice-Problems-learn-doing-ebook/dp/B01N41VQFO) by Sylvia Moestl Vasilik. The book is based on Microsoft SQL server and its T-SQL.\n",
        "\n",
        "Another great SQL book for beginner is [SQL in 10 Minute](https://www.amazon.ca/SQL-Minutes-Sams-Teach-Yourself/dp/0135182794) by Ben Forta."
      ],
      "metadata": {
        "id": "MX-r4ZGhP5oE"
      }
    },
    {
      "cell_type": "code",
      "execution_count": null,
      "source": [],
      "outputs": [],
      "metadata": {
        "id": "q8bRB4GmP5oF"
      }
    },
    {
      "cell_type": "markdown",
      "source": [
        "## Appendix\n",
        "\n",
        "Examples of various joins shown in the slides."
      ],
      "metadata": {
        "id": "_KfSNG5KP5oI"
      }
    },
    {
      "cell_type": "code",
      "execution_count": null,
      "source": [
        "# create a new sqlite database\n",
        "%sql sqlite:///join_playground.sqlite3"
      ],
      "outputs": [],
      "metadata": {
        "id": "VppwXfH7zXyt"
      }
    },
    {
      "cell_type": "code",
      "execution_count": null,
      "source": [
        "%%sql\n",
        "\n",
        "-- create left table: table1\n",
        "DROP TABLE IF EXISTS table1;\n",
        "\n",
        "CREATE TABLE table1 (\n",
        "  pk INTEGER NOT NULL,\n",
        "  t1c1 TEXT NOT NULL\n",
        ");\n",
        "\n",
        "INSERT INTO table1\n",
        "    (pk, t1c1)\n",
        "VALUES\n",
        "    (1,\"a\"),\n",
        "    (2,\"b\");\n",
        "\n",
        "-- create right table: table2\n",
        "DROP TABLE IF EXISTS table2;\n",
        "\n",
        "CREATE TABLE table2 (\n",
        "  fk INTEGER NOT NULL,\n",
        "  t2c1 TEXT NOT NULL\n",
        ");\n",
        "\n",
        "INSERT INTO table2\n",
        "    (fk, t2c1)\n",
        "VALUES\n",
        "    (1,\"c\"),\n",
        "    (1,\"d\"),\n",
        "    (3,\"e\");"
      ],
      "outputs": [],
      "metadata": {
        "id": "k6LIK-5VP5oJ"
      }
    },
    {
      "cell_type": "code",
      "execution_count": null,
      "source": [
        "%%sql\n",
        "select * from table1;"
      ],
      "outputs": [],
      "metadata": {
        "id": "D-EBvGSmP5oe"
      }
    },
    {
      "cell_type": "code",
      "execution_count": null,
      "source": [
        "%%sql\n",
        "select * from table2;"
      ],
      "outputs": [],
      "metadata": {
        "id": "RueQp1XrP5ol"
      }
    },
    {
      "cell_type": "code",
      "execution_count": null,
      "source": [
        "%%sql\n",
        "-- inner join\n",
        "select * from table1 join table2 on table1.pk = table2.fk"
      ],
      "outputs": [],
      "metadata": {
        "id": "WLKJbsiyP5on"
      }
    },
    {
      "cell_type": "code",
      "execution_count": null,
      "source": [
        "%%sql\n",
        "-- left join\n",
        "select *\n",
        "from table1\n",
        "  left join table2 on table1.pk = table2.fk"
      ],
      "outputs": [],
      "metadata": {
        "id": "9oDsKf8OP5oq"
      }
    },
    {
      "cell_type": "code",
      "execution_count": null,
      "source": [
        "%%sql\n",
        "-- left join with exclusion\n",
        "select *\n",
        "from table1\n",
        "  left join table2 on table1.pk = table2.fk\n",
        "where table2.fk IS NULL"
      ],
      "outputs": [],
      "metadata": {
        "id": "bwqlAhCLP5ou"
      }
    },
    {
      "cell_type": "code",
      "execution_count": null,
      "source": [
        "%%sql\n",
        "-- right join using LEFT JOIN key word\n",
        "select *\n",
        "from table2\n",
        "  left join table1 on table2.fk = table1.pk"
      ],
      "outputs": [],
      "metadata": {
        "id": "sgyyBEw5P5o0"
      }
    },
    {
      "cell_type": "code",
      "execution_count": null,
      "source": [
        "%%sql\n",
        "-- right join with exclusion using LEFT JOIN and WHERE key word\n",
        "select *\n",
        "from table2\n",
        "  left join table1 on table2.fk = table1.pk\n",
        "where table1.pk is NULL"
      ],
      "outputs": [],
      "metadata": {
        "id": "2QJleWGiP5o6"
      }
    },
    {
      "cell_type": "code",
      "execution_count": null,
      "source": [
        "%%sql\n",
        "-- fuller outer join\n",
        "-- it is important to list all the column names (i.e. not using *; can use * if using MySQL)\n",
        "-- https://stackoverflow.com/questions/53076981/sql-union-doesnt-check-for-matching-column-names-is-it-up-to-me\n",
        "\n",
        "select pk, t1c1, fk, t2c1\n",
        "from table1\n",
        "  left join table2 on table1.pk = table2.fk\n",
        "union\n",
        "select pk, t1c1, fk, t2c1\n",
        "from table2\n",
        "  left join table1 on table2.fk = table1.pk;"
      ],
      "outputs": [],
      "metadata": {
        "id": "wTOU-JaFP5o8"
      }
    },
    {
      "cell_type": "code",
      "execution_count": null,
      "source": [
        "%%sql\n",
        "-- full outer join with exclusion\n",
        "select pk, t1c1, fk, t2c1\n",
        "from table1\n",
        "  left join table2 on table1.pk = table2.fk\n",
        "where table2.fk is NULL\n",
        "union\n",
        "select pk, t1c1, fk, t2c1\n",
        "from table2\n",
        "  left join table1 on table2.fk = table1.pk\n",
        "where table1.pk is NULL;"
      ],
      "outputs": [],
      "metadata": {
        "id": "VlBjOIV2P5o_"
      }
    },
    {
      "cell_type": "code",
      "source": [],
      "metadata": {
        "id": "0X7FdB7WFdtC"
      },
      "execution_count": null,
      "outputs": []
    }
  ]
}