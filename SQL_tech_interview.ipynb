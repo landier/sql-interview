{
  "nbformat": 4,
  "nbformat_minor": 0,
  "metadata": {
    "colab": {
      "provenance": [],
      "authorship_tag": "ABX9TyMeJpipluRmkEO5xXJikEKi",
      "include_colab_link": true
    },
    "kernelspec": {
      "name": "python3",
      "display_name": "Python 3"
    },
    "language_info": {
      "name": "python"
    }
  },
  "cells": [
    {
      "cell_type": "markdown",
      "metadata": {
        "id": "view-in-github",
        "colab_type": "text"
      },
      "source": [
        "<a href=\"https://colab.research.google.com/github/landier/sql-interview/blob/main/SQL_tech_interview.ipynb\" target=\"_parent\"><img src=\"https://colab.research.google.com/assets/colab-badge.svg\" alt=\"Open In Colab\"/></a>"
      ]
    },
    {
      "cell_type": "markdown",
      "source": [
        "#Doc\n",
        "https://colab.research.google.com/github/tdmdal/mma-sql-2021/blob/master/docs/SQL_Intro_Sqlite.ipynb"
      ],
      "metadata": {
        "id": "m64rsC-2vaCg"
      }
    },
    {
      "cell_type": "markdown",
      "source": [
        "# Setup"
      ],
      "metadata": {
        "id": "0g2L6a2aoDzs"
      }
    },
    {
      "cell_type": "code",
      "source": [
        "\n",
        "!pip install ipython-sql\n"
      ],
      "metadata": {
        "colab": {
          "base_uri": "https://localhost:8080/"
        },
        "id": "iKGlX3GsgERj",
        "outputId": "fdfb2da0-b76e-44d7-c929-0e011bcdf243"
      },
      "execution_count": 25,
      "outputs": [
        {
          "output_type": "stream",
          "name": "stdout",
          "text": [
            "Requirement already satisfied: ipython-sql in /usr/local/lib/python3.10/dist-packages (0.5.0)\n",
            "Requirement already satisfied: prettytable in /usr/local/lib/python3.10/dist-packages (from ipython-sql) (3.10.0)\n",
            "Requirement already satisfied: ipython in /usr/local/lib/python3.10/dist-packages (from ipython-sql) (7.34.0)\n",
            "Requirement already satisfied: sqlalchemy>=2.0 in /usr/local/lib/python3.10/dist-packages (from ipython-sql) (2.0.28)\n",
            "Requirement already satisfied: sqlparse in /usr/local/lib/python3.10/dist-packages (from ipython-sql) (0.4.4)\n",
            "Requirement already satisfied: six in /usr/local/lib/python3.10/dist-packages (from ipython-sql) (1.16.0)\n",
            "Requirement already satisfied: ipython-genutils in /usr/local/lib/python3.10/dist-packages (from ipython-sql) (0.2.0)\n",
            "Requirement already satisfied: typing-extensions>=4.6.0 in /usr/local/lib/python3.10/dist-packages (from sqlalchemy>=2.0->ipython-sql) (4.10.0)\n",
            "Requirement already satisfied: greenlet!=0.4.17 in /usr/local/lib/python3.10/dist-packages (from sqlalchemy>=2.0->ipython-sql) (3.0.3)\n",
            "Requirement already satisfied: setuptools>=18.5 in /usr/local/lib/python3.10/dist-packages (from ipython->ipython-sql) (67.7.2)\n",
            "Requirement already satisfied: jedi>=0.16 in /usr/local/lib/python3.10/dist-packages (from ipython->ipython-sql) (0.19.1)\n",
            "Requirement already satisfied: decorator in /usr/local/lib/python3.10/dist-packages (from ipython->ipython-sql) (4.4.2)\n",
            "Requirement already satisfied: pickleshare in /usr/local/lib/python3.10/dist-packages (from ipython->ipython-sql) (0.7.5)\n",
            "Requirement already satisfied: traitlets>=4.2 in /usr/local/lib/python3.10/dist-packages (from ipython->ipython-sql) (5.7.1)\n",
            "Requirement already satisfied: prompt-toolkit!=3.0.0,!=3.0.1,<3.1.0,>=2.0.0 in /usr/local/lib/python3.10/dist-packages (from ipython->ipython-sql) (3.0.43)\n",
            "Requirement already satisfied: pygments in /usr/local/lib/python3.10/dist-packages (from ipython->ipython-sql) (2.16.1)\n",
            "Requirement already satisfied: backcall in /usr/local/lib/python3.10/dist-packages (from ipython->ipython-sql) (0.2.0)\n",
            "Requirement already satisfied: matplotlib-inline in /usr/local/lib/python3.10/dist-packages (from ipython->ipython-sql) (0.1.6)\n",
            "Requirement already satisfied: pexpect>4.3 in /usr/local/lib/python3.10/dist-packages (from ipython->ipython-sql) (4.9.0)\n",
            "Requirement already satisfied: wcwidth in /usr/local/lib/python3.10/dist-packages (from prettytable->ipython-sql) (0.2.13)\n",
            "Requirement already satisfied: parso<0.9.0,>=0.8.3 in /usr/local/lib/python3.10/dist-packages (from jedi>=0.16->ipython->ipython-sql) (0.8.3)\n",
            "Requirement already satisfied: ptyprocess>=0.5 in /usr/local/lib/python3.10/dist-packages (from pexpect>4.3->ipython->ipython-sql) (0.7.0)\n"
          ]
        }
      ]
    },
    {
      "cell_type": "code",
      "source": [
        "!rm -rf sql-interview/\n",
        "!git clone https://@github.com/landier/sql-interview.git"
      ],
      "metadata": {
        "colab": {
          "base_uri": "https://localhost:8080/"
        },
        "id": "5usdCBdAo3Tb",
        "outputId": "072109d0-bf19-4f7f-d5d9-962e52175d93"
      },
      "execution_count": 31,
      "outputs": [
        {
          "output_type": "stream",
          "name": "stdout",
          "text": [
            "Cloning into 'sql-interview'...\n",
            "warning: redirecting to https://github.com/landier/sql-interview.git/\n",
            "remote: Enumerating objects: 19, done.\u001b[K\n",
            "remote: Counting objects:   5% (1/19)\u001b[K\rremote: Counting objects:  10% (2/19)\u001b[K\rremote: Counting objects:  15% (3/19)\u001b[K\rremote: Counting objects:  21% (4/19)\u001b[K\rremote: Counting objects:  26% (5/19)\u001b[K\rremote: Counting objects:  31% (6/19)\u001b[K\rremote: Counting objects:  36% (7/19)\u001b[K\rremote: Counting objects:  42% (8/19)\u001b[K\rremote: Counting objects:  47% (9/19)\u001b[K\rremote: Counting objects:  52% (10/19)\u001b[K\rremote: Counting objects:  57% (11/19)\u001b[K\rremote: Counting objects:  63% (12/19)\u001b[K\rremote: Counting objects:  68% (13/19)\u001b[K\rremote: Counting objects:  73% (14/19)\u001b[K\rremote: Counting objects:  78% (15/19)\u001b[K\rremote: Counting objects:  84% (16/19)\u001b[K\rremote: Counting objects:  89% (17/19)\u001b[K\rremote: Counting objects:  94% (18/19)\u001b[K\rremote: Counting objects: 100% (19/19)\u001b[K\rremote: Counting objects: 100% (19/19), done.\u001b[K\n",
            "remote: Compressing objects:   6% (1/15)\u001b[K\rremote: Compressing objects:  13% (2/15)\u001b[K\rremote: Compressing objects:  20% (3/15)\u001b[K\rremote: Compressing objects:  26% (4/15)\u001b[K\rremote: Compressing objects:  33% (5/15)\u001b[K\rremote: Compressing objects:  40% (6/15)\u001b[K\rremote: Compressing objects:  46% (7/15)\u001b[K\rremote: Compressing objects:  53% (8/15)\u001b[K\rremote: Compressing objects:  60% (9/15)\u001b[K\rremote: Compressing objects:  66% (10/15)\u001b[K\rremote: Compressing objects:  73% (11/15)\u001b[K\rremote: Compressing objects:  80% (12/15)\u001b[K\rremote: Compressing objects:  86% (13/15)\u001b[K\rremote: Compressing objects:  93% (14/15)\u001b[K\rremote: Compressing objects: 100% (15/15)\u001b[K\rremote: Compressing objects: 100% (15/15), done.\u001b[K\n",
            "Receiving objects:   5% (1/19)\rReceiving objects:  10% (2/19)\rReceiving objects:  15% (3/19)\rReceiving objects:  21% (4/19)\rReceiving objects:  26% (5/19)\rReceiving objects:  31% (6/19)\rReceiving objects:  36% (7/19)\rReceiving objects:  42% (8/19)\rReceiving objects:  47% (9/19)\rReceiving objects:  52% (10/19)\rremote: Total 19 (delta 4), reused 8 (delta 1), pack-reused 0\u001b[K\n",
            "Receiving objects:  57% (11/19)\rReceiving objects:  63% (12/19)\rReceiving objects:  68% (13/19)\rReceiving objects:  73% (14/19)\rReceiving objects:  78% (15/19)\rReceiving objects:  84% (16/19)\rReceiving objects:  89% (17/19)\rReceiving objects:  94% (18/19)\rReceiving objects: 100% (19/19)\rReceiving objects: 100% (19/19), 332.45 KiB | 15.83 MiB/s, done.\n",
            "Resolving deltas:   0% (0/4)\rResolving deltas:  25% (1/4)\rResolving deltas:  50% (2/4)\rResolving deltas:  75% (3/4)\rResolving deltas: 100% (4/4)\rResolving deltas: 100% (4/4), done.\n"
          ]
        }
      ]
    },
    {
      "cell_type": "code",
      "source": [
        "%reload_ext sql"
      ],
      "metadata": {
        "id": "AN7PWqwKiAoy"
      },
      "execution_count": 35,
      "outputs": []
    },
    {
      "cell_type": "markdown",
      "source": [
        "test"
      ],
      "metadata": {
        "id": "p3cMHeafvtWq"
      }
    },
    {
      "cell_type": "code",
      "source": [
        "%sql sqlite:///sql-interview/data/chinook.db"
      ],
      "metadata": {
        "id": "uaPTi7mhorqb"
      },
      "execution_count": 36,
      "outputs": []
    },
    {
      "cell_type": "markdown",
      "source": [
        "#Exercice"
      ],
      "metadata": {
        "id": "HGSvaP1eoTtt"
      }
    },
    {
      "cell_type": "markdown",
      "source": [
        "https://www.sqlitetutorial.net/wp-content/uploads/2018/03/sqlite-sample-database-diagram.pdf"
      ],
      "metadata": {
        "id": "f_oZpqW9_xgh"
      }
    },
    {
      "cell_type": "code",
      "source": [
        "# List of tables\n",
        "%%sql\n",
        "SELECT name FROM sqlite_master WHERE type='table' AND name NOT LIKE 'sqlite_%';"
      ],
      "metadata": {
        "colab": {
          "base_uri": "https://localhost:8080/",
          "height": 329
        },
        "id": "fn8yg519o_SG",
        "outputId": "f10f4a54-dd36-4506-ca4b-0578fe3f89cc"
      },
      "execution_count": 48,
      "outputs": [
        {
          "output_type": "stream",
          "name": "stdout",
          "text": [
            "   sqlite://\n",
            " * sqlite:///sql-interview/data/chinook.db\n",
            "Done.\n"
          ]
        },
        {
          "output_type": "execute_result",
          "data": {
            "text/plain": [
              "[('albums',),\n",
              " ('artists',),\n",
              " ('customers',),\n",
              " ('employees',),\n",
              " ('genres',),\n",
              " ('invoices',),\n",
              " ('invoice_items',),\n",
              " ('media_types',),\n",
              " ('playlists',),\n",
              " ('playlist_track',),\n",
              " ('tracks',)]"
            ],
            "text/html": [
              "<table>\n",
              "    <thead>\n",
              "        <tr>\n",
              "            <th>name</th>\n",
              "        </tr>\n",
              "    </thead>\n",
              "    <tbody>\n",
              "        <tr>\n",
              "            <td>albums</td>\n",
              "        </tr>\n",
              "        <tr>\n",
              "            <td>artists</td>\n",
              "        </tr>\n",
              "        <tr>\n",
              "            <td>customers</td>\n",
              "        </tr>\n",
              "        <tr>\n",
              "            <td>employees</td>\n",
              "        </tr>\n",
              "        <tr>\n",
              "            <td>genres</td>\n",
              "        </tr>\n",
              "        <tr>\n",
              "            <td>invoices</td>\n",
              "        </tr>\n",
              "        <tr>\n",
              "            <td>invoice_items</td>\n",
              "        </tr>\n",
              "        <tr>\n",
              "            <td>media_types</td>\n",
              "        </tr>\n",
              "        <tr>\n",
              "            <td>playlists</td>\n",
              "        </tr>\n",
              "        <tr>\n",
              "            <td>playlist_track</td>\n",
              "        </tr>\n",
              "        <tr>\n",
              "            <td>tracks</td>\n",
              "        </tr>\n",
              "    </tbody>\n",
              "</table>"
            ]
          },
          "metadata": {},
          "execution_count": 48
        }
      ]
    },
    {
      "cell_type": "code",
      "source": [
        "%%sql\n",
        "SELECT\n",
        "ArtistId,\n",
        "COUNT(*)\n",
        "FROM albums\n",
        "GROUP BY ArtistId\n",
        "ORDER BY COUNT(*) DESC\n",
        "LIMIT 10"
      ],
      "metadata": {
        "id": "ngTeE_QapCze",
        "colab": {
          "base_uri": "https://localhost:8080/",
          "height": 308
        },
        "outputId": "860f22b8-d14d-4168-85dc-cdf5c6008bd2"
      },
      "execution_count": 45,
      "outputs": [
        {
          "output_type": "stream",
          "name": "stdout",
          "text": [
            "   sqlite://\n",
            " * sqlite:///sql-interview/data/chinook.db\n",
            "Done.\n"
          ]
        },
        {
          "output_type": "execute_result",
          "data": {
            "text/plain": [
              "[(90, 21),\n",
              " (22, 14),\n",
              " (58, 11),\n",
              " (50, 10),\n",
              " (150, 10),\n",
              " (114, 6),\n",
              " (118, 5),\n",
              " (21, 4),\n",
              " (82, 4),\n",
              " (84, 4)]"
            ],
            "text/html": [
              "<table>\n",
              "    <thead>\n",
              "        <tr>\n",
              "            <th>ArtistId</th>\n",
              "            <th>COUNT(*)</th>\n",
              "        </tr>\n",
              "    </thead>\n",
              "    <tbody>\n",
              "        <tr>\n",
              "            <td>90</td>\n",
              "            <td>21</td>\n",
              "        </tr>\n",
              "        <tr>\n",
              "            <td>22</td>\n",
              "            <td>14</td>\n",
              "        </tr>\n",
              "        <tr>\n",
              "            <td>58</td>\n",
              "            <td>11</td>\n",
              "        </tr>\n",
              "        <tr>\n",
              "            <td>50</td>\n",
              "            <td>10</td>\n",
              "        </tr>\n",
              "        <tr>\n",
              "            <td>150</td>\n",
              "            <td>10</td>\n",
              "        </tr>\n",
              "        <tr>\n",
              "            <td>114</td>\n",
              "            <td>6</td>\n",
              "        </tr>\n",
              "        <tr>\n",
              "            <td>118</td>\n",
              "            <td>5</td>\n",
              "        </tr>\n",
              "        <tr>\n",
              "            <td>21</td>\n",
              "            <td>4</td>\n",
              "        </tr>\n",
              "        <tr>\n",
              "            <td>82</td>\n",
              "            <td>4</td>\n",
              "        </tr>\n",
              "        <tr>\n",
              "            <td>84</td>\n",
              "            <td>4</td>\n",
              "        </tr>\n",
              "    </tbody>\n",
              "</table>"
            ]
          },
          "metadata": {},
          "execution_count": 45
        }
      ]
    },
    {
      "cell_type": "code",
      "source": [],
      "metadata": {
        "id": "c6GegJc8uFZA"
      },
      "execution_count": null,
      "outputs": []
    },
    {
      "cell_type": "code",
      "source": [],
      "metadata": {
        "id": "0AWn58mJA_Ir"
      },
      "execution_count": null,
      "outputs": []
    },
    {
      "cell_type": "markdown",
      "source": [
        "# Progression\n",
        "\n",
        "2. GROUP BY\n",
        "2. MAX\n",
        "3. DISTINCT A,B\n",
        "1. JOIN\n",
        "\n",
        "SUBQUERY"
      ],
      "metadata": {
        "id": "2D2Z76U9A_26"
      }
    },
    {
      "cell_type": "code",
      "source": [],
      "metadata": {
        "id": "9TSZmURQBA0U"
      },
      "execution_count": null,
      "outputs": []
    }
  ]
}